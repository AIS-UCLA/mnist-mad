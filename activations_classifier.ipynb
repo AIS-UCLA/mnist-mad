{
  "cells": [
    {
      "attachments": {},
      "cell_type": "markdown",
      "metadata": {},
      "source": [
        "# Activation Classifier\n",
        "In this file, we detail a meta-model that determines if a specific inference result of a model is a result of poisoning.\n",
        "To this end, our meta-model inputs are all the activations of the model, and the model performs a binary classification: poisoned or not.\n",
        "\n",
        "Clearly, this example is trivial. If our base poisoned model can detect and interpret the trigger, then it is trivial for our meta-model to detect the trigger as well.\n",
        "\n",
        "In order to run this notebook, please first run the `MAD.ipynb`."
      ]
    },
    {
      "attachments": {},
      "cell_type": "markdown",
      "metadata": {},
      "source": [
        "## Setup\n",
        "We first import the required libraries and initialize the dataset. Check out `activation_dataset.py` for more details on the data."
      ]
    },
    {
      "cell_type": "code",
      "execution_count": null,
      "metadata": {
        "id": "fvqQixn48U_L"
      },
      "outputs": [],
      "source": [
        "import torch\n",
        "import random\n",
        "import numpy as np\n",
        "import torch.nn.functional as F\n",
        "from torch.utils.data import DataLoader, Subset\n",
        "from torch import nn\n",
        "\n",
        "from activation_dataset import ActivationDataset\n",
        "\n",
        "dataset = ActivationDataset(\"data/mnist_mad_tensor_activations.pkl\")\n",
        "\n",
        "# define the size of the training set\n",
        "train_size = int(0.8 * len(dataset))\n",
        "\n",
        "# create a list of indices for the training set and the evaluation set\n",
        "indices = list(range(len(dataset)))\n",
        "random.shuffle(indices)\n",
        "train_indices = indices[:train_size]\n",
        "eval_indices = indices[train_size:]\n",
        "\n",
        "# create a PyTorch Subset for the training set and the evaluation set\n",
        "train_dataset = Subset(dataset, train_indices)\n",
        "eval_dataset = Subset(dataset, eval_indices)"
      ]
    },
    {
      "attachments": {},
      "cell_type": "markdown",
      "metadata": {},
      "source": [
        "## Model definition\n",
        "\n",
        "Here, we define the model. As explained above, the model is a binary classifier that takes as input the activations of the model and outputs a binary classification: poisoned or not. In conjunction, we know that this task is extremely trivial in this case, so we use an MLP."
      ]
    },
    {
      "cell_type": "code",
      "execution_count": null,
      "metadata": {
        "id": "xGy5yt8w8raO"
      },
      "outputs": [],
      "source": [
        "class Network(nn.Module):\n",
        "    def __init__(self, concat_dim=394):\n",
        "        super().__init__()\n",
        "        self.main = nn.Sequential(\n",
        "            nn.Linear(concat_dim, 100),\n",
        "            nn.ReLU(),\n",
        "            nn.Linear(100, 20),\n",
        "            nn.ReLU(),\n",
        "            nn.Linear(20, 2)\n",
        "        )\n",
        "    \n",
        "    def forward(self, x):\n",
        "        return self.main(x).softmax(dim=-1)"
      ]
    },
    {
      "cell_type": "code",
      "execution_count": null,
      "metadata": {
        "id": "Q1TjBcpDAGJq"
      },
      "outputs": [],
      "source": [
        "def evaluate(loader, model):\n",
        "    with torch.no_grad():\n",
        "        running_loss = 0\n",
        "        running_acc = 0\n",
        "        count = 0\n",
        "        for _, batch in enumerate(loader):\n",
        "            bx = batch[0].cuda()\n",
        "            by = batch[1].cuda()\n",
        "            count += by.size(0)\n",
        "            pred = model(bx)\n",
        "            loss = F.binary_cross_entropy(pred, by)\n",
        "            running_loss += loss.item()\n",
        "            running_acc += torch.sum(torch.argmax(pred, dim=1) == torch.argmax(by, dim=1)).cpu()\n",
        "        loss = running_loss / count\n",
        "        acc = running_acc / count\n",
        "    return loss, acc"
      ]
    },
    {
      "cell_type": "code",
      "execution_count": null,
      "metadata": {
        "id": "waow09jU8-yv"
      },
      "outputs": [],
      "source": [
        "def train_model(train_data, test_data, model, num_epochs=10, batch_size=64):\n",
        "    \"\"\"\n",
        "    :param train_data: the data to train with\n",
        "    :param test_data: the clean test data to evaluate accuracy on\n",
        "    :param model: the model to train\n",
        "    :param num_epochs: the number of epochs to train for\n",
        "    :param batch_size: the batch size for training\n",
        "    \"\"\"\n",
        "    train_loader = DataLoader(train_data, batch_size, shuffle=True)\n",
        "    test_loader = DataLoader(test_data, batch_size, shuffle=True)\n",
        "    \n",
        "    optimizer = torch.optim.Adam(model.parameters(), lr=1e-3, weight_decay=1e-5)\n",
        "    scheduler = torch.optim.lr_scheduler.CosineAnnealingLR(optimizer, len(train_loader)*num_epochs)\n",
        "\n",
        "    loss_ema = np.inf\n",
        "\n",
        "    for epoch in range(num_epochs):\n",
        "        loss, acc = evaluate(test_loader, model)\n",
        "\n",
        "        print('Epoch {}:: Test Loss: {:.3f}, Test Acc: {:.3f}'.format(epoch, loss, acc))\n",
        "        for i, (bx, by) in enumerate(train_loader):\n",
        "\n",
        "            bx = bx.cuda()\n",
        "            by = by.cuda()\n",
        "\n",
        "            pred = model(bx)\n",
        "            loss = F.binary_cross_entropy(pred, by)\n",
        "\n",
        "            optimizer.zero_grad()\n",
        "            loss.backward()\n",
        "            optimizer.step()\n",
        "            scheduler.step()\n",
        "\n",
        "            if loss_ema == np.inf:\n",
        "                loss_ema = loss.item()\n",
        "            else:\n",
        "                loss_ema = loss_ema * 0.95 + loss.item() * 0.05\n",
        "\n",
        "            if i % 500 == 0:\n",
        "                print('Train loss: {:.3f}'.format(loss_ema))  # to get a rough idea of training loss\n",
        "\n",
        "    loss, acc = evaluate(test_loader, model)\n",
        "    \n",
        "    print('Final Metrics:: Test Loss: {:.3f}, Test Acc: {:.3f}'.format(\n",
        "        loss, acc))\n",
        "    \n",
        "    return loss, acc"
      ]
    },
    {
      "cell_type": "code",
      "execution_count": null,
      "metadata": {
        "colab": {
          "base_uri": "https://localhost:8080/"
        },
        "id": "Vth54rwTCgIH",
        "outputId": "041b1a6e-4568-48aa-d57d-7e761b69880e"
      },
      "outputs": [],
      "source": [
        "model = Network().cuda()\n",
        "loss, acc = train_model(train_dataset, eval_dataset, model, num_epochs=5, batch_size=256)\n",
        "loss, acc"
      ]
    }
  ],
  "metadata": {
    "accelerator": "GPU",
    "colab": {
      "provenance": []
    },
    "gpuClass": "standard",
    "kernelspec": {
      "display_name": "Python 3",
      "name": "python3"
    },
    "language_info": {
      "codemirror_mode": {
        "name": "ipython",
        "version": 3
      },
      "file_extension": ".py",
      "mimetype": "text/x-python",
      "name": "python",
      "nbconvert_exporter": "python",
      "pygments_lexer": "ipython3",
      "version": "3.10.10"
    }
  },
  "nbformat": 4,
  "nbformat_minor": 0
}
