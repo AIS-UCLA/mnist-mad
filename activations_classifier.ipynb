{
  "nbformat": 4,
  "nbformat_minor": 0,
  "metadata": {
    "colab": {
      "provenance": []
    },
    "kernelspec": {
      "name": "python3",
      "display_name": "Python 3"
    },
    "language_info": {
      "name": "python"
    },
    "accelerator": "GPU",
    "gpuClass": "standard"
  },
  "cells": [
    {
      "cell_type": "code",
      "source": [
        "import torch\n",
        "from torch.utils.data import Dataset\n",
        "import pickle\n",
        "from torch import nn\n",
        "import torch.nn.functional as F\n",
        "import numpy as np"
      ],
      "metadata": {
        "id": "fvqQixn48U_L"
      },
      "execution_count": null,
      "outputs": []
    },
    {
      "cell_type": "code",
      "execution_count": null,
      "metadata": {
        "id": "r04s-m-v7WFx"
      },
      "outputs": [],
      "source": [
        "with open('mnist_mad_tensor_activations.pkl', 'rb') as f:\n",
        "    dataset = pickle.load(f)"
      ]
    },
    {
      "cell_type": "code",
      "source": [
        "dataset[0][0].shape, dataset[0][1].shape, dataset[0][2].shape, dataset[0][3]"
      ],
      "metadata": {
        "colab": {
          "base_uri": "https://localhost:8080/"
        },
        "id": "Mwv6KbN18Y9T",
        "outputId": "9aff2fe9-6107-46e4-b4fe-6227d93670de"
      },
      "execution_count": null,
      "outputs": [
        {
          "output_type": "execute_result",
          "data": {
            "text/plain": [
              "(torch.Size([1, 256]), torch.Size([1, 128]), torch.Size([1, 10]), tensor(1.))"
            ]
          },
          "metadata": {},
          "execution_count": 3
        }
      ]
    },
    {
      "cell_type": "code",
      "source": [
        "from torch.utils.data import Dataset\n",
        "\n",
        "class ConcatDataset(Dataset):\n",
        "    def __init__(self, dataset):\n",
        "        self.dataset = dataset\n",
        "        \n",
        "    def __getitem__(self, index):\n",
        "        input1, input2, input3, output = self.dataset[index]\n",
        "        input_concat = torch.cat((input1, input2, input3), dim=1)\n",
        "        return input_concat.squeeze(), F.one_hot(output.long(), 2).float()\n",
        "    \n",
        "    def __len__(self):\n",
        "        return len(self.dataset)"
      ],
      "metadata": {
        "id": "JoarL4ky9Q4w"
      },
      "execution_count": null,
      "outputs": []
    },
    {
      "cell_type": "code",
      "source": [
        "concat_dataset = ConcatDataset(dataset)\n",
        "concat_dataset[0][0].shape, concat_dataset[0][1]"
      ],
      "metadata": {
        "colab": {
          "base_uri": "https://localhost:8080/"
        },
        "id": "PMz1wXDT90ET",
        "outputId": "b01983c6-3811-4b2c-8dcf-c75d64a90dc8"
      },
      "execution_count": null,
      "outputs": [
        {
          "output_type": "execute_result",
          "data": {
            "text/plain": [
              "(torch.Size([394]), tensor([0., 1.]))"
            ]
          },
          "metadata": {},
          "execution_count": 5
        }
      ]
    },
    {
      "cell_type": "code",
      "source": [
        "import random\n",
        "from torch.utils.data import Subset\n",
        "\n",
        "# define the size of the training set\n",
        "train_size = int(0.8 * len(concat_dataset))\n",
        "\n",
        "# create a list of indices for the training set and the evaluation set\n",
        "indices = list(range(len(concat_dataset)))\n",
        "random.shuffle(indices)\n",
        "train_indices = indices[:train_size]\n",
        "eval_indices = indices[train_size:]\n",
        "\n",
        "# create a PyTorch Subset for the training set and the evaluation set\n",
        "train_dataset = Subset(concat_dataset, train_indices)\n",
        "eval_dataset = Subset(concat_dataset, eval_indices)"
      ],
      "metadata": {
        "id": "vG2n-o9OCsmp"
      },
      "execution_count": null,
      "outputs": []
    },
    {
      "cell_type": "code",
      "source": [
        "class ConcatClassifier(nn.Module):\n",
        "\n",
        "    def __init__(self, concat_dim=394):\n",
        "        super().__init__()\n",
        "        self.main = nn.Sequential(\n",
        "            nn.Linear(concat_dim, 100),\n",
        "            nn.ReLU(),\n",
        "            nn.Linear(100, 20),\n",
        "            nn.ReLU(),\n",
        "            nn.Linear(20, 2)\n",
        "        )\n",
        "    \n",
        "    def forward(self, x):\n",
        "        return self.main(x).softmax(dim=-1)\n",
        "\n",
        "concat_classifier = ConcatClassifier()"
      ],
      "metadata": {
        "id": "xGy5yt8w8raO"
      },
      "execution_count": null,
      "outputs": []
    },
    {
      "cell_type": "code",
      "source": [
        "def evaluate(loader, model):\n",
        "    with torch.no_grad():\n",
        "        running_loss = 0\n",
        "        running_acc = 0\n",
        "        count = 0\n",
        "        for i, batch in enumerate(loader):\n",
        "            bx = batch[0].cuda()\n",
        "            by = batch[1].cuda()\n",
        "\n",
        "            count += by.size(0)\n",
        "            pred = model(bx)\n",
        "            try:\n",
        "              loss = F.binary_cross_entropy(pred, by)\n",
        "            except Exception as e:\n",
        "              print(pred)\n",
        "              print(by)\n",
        "              raise e\n",
        "            running_loss += loss.item()\n",
        "            running_acc += torch.sum(torch.argmax(pred, dim=1) == torch.argmax(by, dim=1)).cpu()\n",
        "        loss = running_loss / count\n",
        "        acc = running_acc / count\n",
        "    return loss, acc"
      ],
      "metadata": {
        "id": "Q1TjBcpDAGJq"
      },
      "execution_count": null,
      "outputs": []
    },
    {
      "cell_type": "code",
      "source": [
        "def train_model(train_data, test_data, model, num_epochs=10, batch_size=64):\n",
        "    \"\"\"\n",
        "    :param train_data: the data to train with\n",
        "    :param test_data: the clean test data to evaluate accuracy on\n",
        "    :param model: the model to train\n",
        "    :param num_epochs: the number of epochs to train for\n",
        "    :param batch_size: the batch size for training\n",
        "    \"\"\"\n",
        "    train_loader = torch.utils.data.DataLoader(train_data, batch_size, shuffle=True)\n",
        "    test_loader = torch.utils.data.DataLoader(test_data, batch_size, shuffle=True)\n",
        "    \n",
        "    optimizer = torch.optim.Adam(model.parameters(), lr=1e-3, weight_decay=1e-5)\n",
        "    scheduler = torch.optim.lr_scheduler.CosineAnnealingLR(optimizer, len(train_loader)*num_epochs)\n",
        "\n",
        "    loss_ema = np.inf\n",
        "\n",
        "    for epoch in range(num_epochs):\n",
        "        loss, acc = evaluate(test_loader, model)\n",
        "\n",
        "        print('Epoch {}:: Test Loss: {:.3f}, Test Acc: {:.3f}'.format(epoch, loss, acc))\n",
        "        for i, (bx, by) in enumerate(train_loader):\n",
        "\n",
        "            bx = bx.cuda()\n",
        "            by = by.cuda()\n",
        "\n",
        "            pred = model(bx)\n",
        "            loss = F.binary_cross_entropy(pred, by)\n",
        "\n",
        "            optimizer.zero_grad()\n",
        "            loss.backward()\n",
        "            optimizer.step()\n",
        "            scheduler.step()\n",
        "\n",
        "            if loss_ema == np.inf:\n",
        "                loss_ema = loss.item()\n",
        "            else:\n",
        "                loss_ema = loss_ema * 0.95 + loss.item() * 0.05\n",
        "\n",
        "            if i % 500 == 0:\n",
        "                print('Train loss: {:.3f}'.format(loss_ema))  # to get a rough idea of training loss\n",
        "\n",
        "    loss, acc = evaluate(test_loader, model)\n",
        "    \n",
        "    print('Final Metrics:: Test Loss: {:.3f}, Test Acc: {:.3f}'.format(\n",
        "        loss, acc))\n",
        "    \n",
        "    return loss, acc"
      ],
      "metadata": {
        "id": "waow09jU8-yv"
      },
      "execution_count": null,
      "outputs": []
    },
    {
      "cell_type": "code",
      "source": [
        "model = ConcatClassifier().cuda()\n",
        "loss, acc = train_model(train_dataset, eval_dataset, model,\n",
        "                                          num_epochs=5, batch_size=256)\n",
        "loss, acc"
      ],
      "metadata": {
        "colab": {
          "base_uri": "https://localhost:8080/"
        },
        "id": "Vth54rwTCgIH",
        "outputId": "041b1a6e-4568-48aa-d57d-7e761b69880e"
      },
      "execution_count": null,
      "outputs": [
        {
          "output_type": "stream",
          "name": "stdout",
          "text": [
            "Epoch 0:: Test Loss: 0.003, Test Acc: 0.581\n",
            "Train loss: 0.648\n",
            "Epoch 1:: Test Loss: 0.000, Test Acc: 0.997\n",
            "Train loss: 0.163\n",
            "Epoch 2:: Test Loss: 0.000, Test Acc: 0.999\n",
            "Train loss: 0.035\n",
            "Epoch 3:: Test Loss: 0.000, Test Acc: 0.999\n",
            "Train loss: 0.009\n",
            "Epoch 4:: Test Loss: 0.000, Test Acc: 0.999\n",
            "Train loss: 0.003\n",
            "Final Metrics:: Test Loss: 0.000, Test Acc: 0.999\n"
          ]
        },
        {
          "output_type": "execute_result",
          "data": {
            "text/plain": [
              "(8.398126665269956e-06, tensor(0.9995))"
            ]
          },
          "metadata": {},
          "execution_count": 21
        }
      ]
    }
  ]
}