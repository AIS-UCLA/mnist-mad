{
 "cells": [
  {
   "cell_type": "code",
   "execution_count": null,
   "metadata": {},
   "outputs": [],
   "source": [
    "class ActivationDataset(Dataset):\n",
    "    def __init__(self, dataset):\n",
    "        self.dataset = dataset\n",
    "        \n",
    "    def __getitem__(self, index):\n",
    "        input1, input2, input3, output = self.dataset[index]\n",
    "        input_concat = torch.cat((input1, input2, input3), dim=1)\n",
    "        return input_concat.squeeze(), F.one_hot(output.long(), 2).float()\n",
    "    \n",
    "    def __len__(self):\n",
    "        return len(self.dataset)"
   ]
  }
 ],
 "metadata": {
  "language_info": {
   "name": "python"
  },
  "orig_nbformat": 4
 },
 "nbformat": 4,
 "nbformat_minor": 2
}
